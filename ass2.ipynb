{
 "cells": [
  {
   "cell_type": "code",
   "execution_count": 43,
   "metadata": {},
   "outputs": [],
   "source": [
    "import numpy as np\n",
    "import scipy"
   ]
  },
  {
   "cell_type": "code",
   "execution_count": 132,
   "metadata": {},
   "outputs": [
    {
     "name": "stdout",
     "output_type": "stream",
     "text": [
      "Initial Feasible Point (z): [ 0. 20.]\n",
      "Cost Vector (c): [1. 3.]\n",
      "Constraint Vector (b): [20. 50.  0.  0.]\n",
      "Matrix A:\n",
      "[[-1.  1.]\n",
      " [-2.  1.]\n",
      " [-1.  0.]\n",
      " [ 0. -1.]]\n",
      "(4, 2) (4,) (2,) (2,)\n"
     ]
    }
   ],
   "source": [
    "input_data = np.genfromtxt('input2.3.csv', delimiter=',')\n",
    "m, n = input_data.shape[0] - 2, input_data[1] - 1\n",
    "z = input_data[0, :-1]\n",
    "c = input_data[1, :-1]\n",
    "b = input_data[2:, -1]\n",
    "A = input_data[2:, :-1]\n",
    "print(\"Initial Feasible Point (z):\", z)\n",
    "print(\"Cost Vector (c):\", c)\n",
    "print(\"Constraint Vector (b):\", b)\n",
    "print(\"Matrix A:\")\n",
    "print(A)\n",
    "\n",
    "print(A.shape, b.shape, c.shape, z.shape)\n",
    "if np.any(A @ z > b):\n",
    "    print(\"z does not belong to the solution set\")"
   ]
  },
  {
   "cell_type": "code",
   "execution_count": 133,
   "metadata": {},
   "outputs": [
    {
     "name": "stdout",
     "output_type": "stream",
     "text": [
      "Initial vertex: [ 0. 20.]\n",
      "Now at vertex: [ 0. 20.]\n",
      "Value of objective function at this vertex = 60.0\n",
      "Unbounded case\n"
     ]
    }
   ],
   "source": [
    "def find_optimal_vertex(A, b, c, z):\n",
    "    while True:\n",
    "        tight_rows = np.isclose(A @ z, b)\n",
    "        num_tight_rows = np.count_nonzero(tight_rows)\n",
    "        if num_tight_rows == 0:\n",
    "            u = np.ones_like(z)\n",
    "        elif num_tight_rows == A.shape[1]:\n",
    "            break\n",
    "        else:\n",
    "            A1 = A[tight_rows]\n",
    "            A2 = A[~tight_rows]\n",
    "            null_space = scipy.linalg.null_space(A1).T\n",
    "            for vec in null_space:\n",
    "                if not np.isclose(A @ vec, 0).all():\n",
    "                    u = vec\n",
    "                    break\n",
    "        if (A @ (z + 1e6 * u) <= b).all():\n",
    "            u *= -1\n",
    "            if (A @ (z + 1e6 * u) <= b).all():\n",
    "                print(\"Cannot find initial vertex\")\n",
    "                exit(1)\n",
    "        A2 = A[~tight_rows]\n",
    "        b2 = b[~tight_rows]\n",
    "        low = 0\n",
    "        high = 1e2\n",
    "        alpha = 0\n",
    "        while high - low > 1e-12:\n",
    "            alpha = (low + high) / 2\n",
    "            z_new = z + (alpha * u)\n",
    "            if np.any(A2 @ z_new > b2):\n",
    "                high = alpha\n",
    "            else:\n",
    "                low = alpha\n",
    "            alpha = low\n",
    "        z = z + (alpha * u)\n",
    "    print(\"Initial vertex: {}\".format(z))\n",
    "\n",
    "    while True:\n",
    "        print(\"Now at vertex: {}\".format(z))\n",
    "        print(\"Value of objective function at this vertex = {}\".format(np.dot(z, c)))\n",
    "        tight_rows = np.isclose(A @ z, b)\n",
    "        A1 = A[tight_rows]\n",
    "        A2 = A[~tight_rows]\n",
    "        b2 = b[~tight_rows]\n",
    "        A1_inv = np.linalg.inv(A1)\n",
    "        alphas = A1_inv.T @ c\n",
    "        if np.all(alphas > 0):\n",
    "            break\n",
    "        negative_index = np.where(alphas == np.min(alphas))[0][0]\n",
    "        column = A1_inv[:, negative_index]\n",
    "        if np.all(A @ (z - 1e6 * column) <= b):\n",
    "            return \"Unbounded case\"\n",
    "        low = 0\n",
    "        high = 1e2\n",
    "        beta = 0\n",
    "        while high - low > 1e-9:\n",
    "            beta = (low + high) / 2\n",
    "            z_new = z - (beta * column)\n",
    "            if np.any(A2 @ z_new > b2):\n",
    "                high = beta\n",
    "            else:\n",
    "                low = beta\n",
    "            beta = low\n",
    "        z = z - (beta * column)\n",
    "    return z\n",
    "\n",
    "optimal = find_optimal_vertex(A, b, c, z)\n",
    "if isinstance(optimal, str):\n",
    "    print(optimal)\n",
    "else:\n",
    "    print(\"Optimal Solution = {}\".format(optimal))"
   ]
  }
 ],
 "metadata": {
  "kernelspec": {
   "display_name": "Python 3",
   "language": "python",
   "name": "python3"
  },
  "language_info": {
   "codemirror_mode": {
    "name": "ipython",
    "version": 3
   },
   "file_extension": ".py",
   "mimetype": "text/x-python",
   "name": "python",
   "nbconvert_exporter": "python",
   "pygments_lexer": "ipython3",
   "version": "3.9.13"
  }
 },
 "nbformat": 4,
 "nbformat_minor": 2
}
